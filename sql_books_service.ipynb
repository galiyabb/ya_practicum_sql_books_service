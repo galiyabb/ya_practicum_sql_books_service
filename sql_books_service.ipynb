{
 "cells": [
  {
   "cell_type": "code",
   "execution_count": 1,
   "metadata": {},
   "outputs": [],
   "source": [
    "import pandas as pd\n",
    "from sqlalchemy import create_engine\n",
    "# устанавливаем параметры\n",
    "db_config = {'user': 'user_name', # имя пользователя (подставлено шаблонное значение в целях сохранения интеллектуальной собственности)\n",
    " 'pwd': 'password', # пароль (аналогично)\n",
    " 'host': 'example.mdb.yandexcloud.net',\n",
    " 'port': 0000, # порт подключения (аналогично)\n",
    " 'db': 'data-analyst-final-project-db'} # название базы данных\n",
    "connection_string = 'postgresql://{}:{}@{}:{}/{}'.format(db_config['user'],\n",
    " db_config['pwd'],\n",
    " db_config['host'],\n",
    " db_config['port'],\n",
    " db_config['db'])\n",
    "# сохраняем коннектор\n",
    "engine = create_engine(connection_string, connect_args={'sslmode':'require'}) "
   ]
  },
  {
   "cell_type": "markdown",
   "metadata": {},
   "source": [
    "# SQL. Анализ баз данных.\n",
    "\n",
    "__Цель:__\n",
    "\n",
    "Проанализировать базу данных с информацией о книгах, издательствах, авторах, а также пользовательские обзоры книг. Эти данные помогут сформулировать ценностное предложение для нового продукта.\n",
    "\n",
    "\n",
    "__Задачи:__\n",
    "\n",
    "- Посчитать, сколько книг вышло после 1 января 2000 года;\n",
    "- Для каждой книги посчитать количество обзоров и среднюю оценку;\n",
    "- Определить издательство, которое выпустило наибольшее число книг толще 50 страниц — так вы исключите из анализа брошюры;\n",
    "- Определить автора с самой высокой средней оценкой книг — учитывайте только книги с 50 и более оценками;\n",
    "- Посчитать среднее количество обзоров от пользователей, которые поставили больше 50 оценок.\n",
    "\n",
    "__Схема данных:__\n",
    "\n",
    "Доступно по ссылке: https://drive.google.com/file/d/1IunZQ_2E21TzTjWeWS6liiYmCpu1PNTF/view?usp=sharing\n",
    "\n",
    "__Описание данных:__\n",
    "\n",
    "Таблица `books`:\n",
    "\n",
    "- `book_id` — идентификатор книги;\n",
    "- `author_id` — идентификатор автора;\n",
    "- `title` — название книги;\n",
    "- `num_pages` — количество страниц;\n",
    "- `publication_date` — дата публикации книги;\n",
    "- `publisher_id` — идентификатор издателя.\n",
    "\n",
    "Таблица `authors`:\n",
    "\n",
    "- `author_id` — идентификатор автора;\n",
    "- `author` — имя автора.\n",
    "\n",
    "Таблица `publishers`:\n",
    "\n",
    "- `publisher_id` — идентификатор издательства;\n",
    "- `publisher` — название издательства;\n",
    "\n",
    "Таблица `ratings`:\n",
    "\n",
    "- `rating_id` — идентификатор оценки;\n",
    "- `book_id` — идентификатор книги;\n",
    "- `username` — имя пользователя, оставившего оценку;\n",
    "- `rating` — оценка книги.\n",
    "\n",
    "Таблица `reviews`:\n",
    "\n",
    "- `review_id` — идентификатор обзора;\n",
    "- `book_id` — идентификатор книги;\n",
    "- `username` — имя автора обзора;\n",
    "- `text` — текст обзора.\n",
    "\n",
    "<br>\n",
    "\n",
    "## Исследование таблиц"
   ]
  },
  {
   "cell_type": "code",
   "execution_count": 2,
   "metadata": {},
   "outputs": [
    {
     "data": {
      "text/html": [
       "<div>\n",
       "<style scoped>\n",
       "    .dataframe tbody tr th:only-of-type {\n",
       "        vertical-align: middle;\n",
       "    }\n",
       "\n",
       "    .dataframe tbody tr th {\n",
       "        vertical-align: top;\n",
       "    }\n",
       "\n",
       "    .dataframe thead th {\n",
       "        text-align: right;\n",
       "    }\n",
       "</style>\n",
       "<table border=\"1\" class=\"dataframe\">\n",
       "  <thead>\n",
       "    <tr style=\"text-align: right;\">\n",
       "      <th></th>\n",
       "      <th>book_id</th>\n",
       "      <th>author_id</th>\n",
       "      <th>title</th>\n",
       "      <th>num_pages</th>\n",
       "      <th>publication_date</th>\n",
       "      <th>publisher_id</th>\n",
       "    </tr>\n",
       "  </thead>\n",
       "  <tbody>\n",
       "    <tr>\n",
       "      <td>0</td>\n",
       "      <td>1</td>\n",
       "      <td>546</td>\n",
       "      <td>'Salem's Lot</td>\n",
       "      <td>594</td>\n",
       "      <td>2005-11-01</td>\n",
       "      <td>93</td>\n",
       "    </tr>\n",
       "    <tr>\n",
       "      <td>1</td>\n",
       "      <td>2</td>\n",
       "      <td>465</td>\n",
       "      <td>1 000 Places to See Before You Die</td>\n",
       "      <td>992</td>\n",
       "      <td>2003-05-22</td>\n",
       "      <td>336</td>\n",
       "    </tr>\n",
       "    <tr>\n",
       "      <td>2</td>\n",
       "      <td>3</td>\n",
       "      <td>407</td>\n",
       "      <td>13 Little Blue Envelopes (Little Blue Envelope  #1)</td>\n",
       "      <td>322</td>\n",
       "      <td>2010-12-21</td>\n",
       "      <td>135</td>\n",
       "    </tr>\n",
       "    <tr>\n",
       "      <td>3</td>\n",
       "      <td>4</td>\n",
       "      <td>82</td>\n",
       "      <td>1491: New Revelations of the Americas Before Columbus</td>\n",
       "      <td>541</td>\n",
       "      <td>2006-10-10</td>\n",
       "      <td>309</td>\n",
       "    </tr>\n",
       "    <tr>\n",
       "      <td>4</td>\n",
       "      <td>5</td>\n",
       "      <td>125</td>\n",
       "      <td>1776</td>\n",
       "      <td>386</td>\n",
       "      <td>2006-07-04</td>\n",
       "      <td>268</td>\n",
       "    </tr>\n",
       "  </tbody>\n",
       "</table>\n",
       "</div>"
      ],
      "text/plain": [
       "   book_id  author_id                                                  title  \\\n",
       "0        1        546                                           'Salem's Lot   \n",
       "1        2        465                     1 000 Places to See Before You Die   \n",
       "2        3        407    13 Little Blue Envelopes (Little Blue Envelope  #1)   \n",
       "3        4         82  1491: New Revelations of the Americas Before Columbus   \n",
       "4        5        125                                                   1776   \n",
       "\n",
       "   num_pages publication_date  publisher_id  \n",
       "0        594       2005-11-01            93  \n",
       "1        992       2003-05-22           336  \n",
       "2        322       2010-12-21           135  \n",
       "3        541       2006-10-10           309  \n",
       "4        386       2006-07-04           268  "
      ]
     },
     "execution_count": 2,
     "metadata": {},
     "output_type": "execute_result"
    }
   ],
   "source": [
    "# вывод таблицы из базы Книги\n",
    "query = '''\n",
    "select\n",
    "    *\n",
    "from \n",
    "    books\n",
    "limit\n",
    "    5;\n",
    "'''\n",
    "\n",
    "books = pd.io.sql.read_sql(query, con = engine)\n",
    "pd.set_option('display.max_columns', None)\n",
    "pd.options.display.max_colwidth = 150\n",
    "books"
   ]
  },
  {
   "cell_type": "code",
   "execution_count": 3,
   "metadata": {},
   "outputs": [
    {
     "data": {
      "text/html": [
       "<div>\n",
       "<style scoped>\n",
       "    .dataframe tbody tr th:only-of-type {\n",
       "        vertical-align: middle;\n",
       "    }\n",
       "\n",
       "    .dataframe tbody tr th {\n",
       "        vertical-align: top;\n",
       "    }\n",
       "\n",
       "    .dataframe thead th {\n",
       "        text-align: right;\n",
       "    }\n",
       "</style>\n",
       "<table border=\"1\" class=\"dataframe\">\n",
       "  <thead>\n",
       "    <tr style=\"text-align: right;\">\n",
       "      <th></th>\n",
       "      <th>cnt</th>\n",
       "    </tr>\n",
       "  </thead>\n",
       "  <tbody>\n",
       "    <tr>\n",
       "      <td>0</td>\n",
       "      <td>1000</td>\n",
       "    </tr>\n",
       "  </tbody>\n",
       "</table>\n",
       "</div>"
      ],
      "text/plain": [
       "    cnt\n",
       "0  1000"
      ]
     },
     "execution_count": 3,
     "metadata": {},
     "output_type": "execute_result"
    }
   ],
   "source": [
    "query = '''\n",
    "select\n",
    "    count(*) as cnt\n",
    "from\n",
    "    books;\n",
    "'''\n",
    "\n",
    "df = pd.io.sql.read_sql(query, con = engine)\n",
    "df"
   ]
  },
  {
   "cell_type": "code",
   "execution_count": 4,
   "metadata": {},
   "outputs": [
    {
     "data": {
      "text/html": [
       "<div>\n",
       "<style scoped>\n",
       "    .dataframe tbody tr th:only-of-type {\n",
       "        vertical-align: middle;\n",
       "    }\n",
       "\n",
       "    .dataframe tbody tr th {\n",
       "        vertical-align: top;\n",
       "    }\n",
       "\n",
       "    .dataframe thead th {\n",
       "        text-align: right;\n",
       "    }\n",
       "</style>\n",
       "<table border=\"1\" class=\"dataframe\">\n",
       "  <thead>\n",
       "    <tr style=\"text-align: right;\">\n",
       "      <th></th>\n",
       "      <th>author_id</th>\n",
       "      <th>author</th>\n",
       "    </tr>\n",
       "  </thead>\n",
       "  <tbody>\n",
       "    <tr>\n",
       "      <td>0</td>\n",
       "      <td>1</td>\n",
       "      <td>A.S. Byatt</td>\n",
       "    </tr>\n",
       "    <tr>\n",
       "      <td>1</td>\n",
       "      <td>2</td>\n",
       "      <td>Aesop/Laura Harris/Laura Gibbs</td>\n",
       "    </tr>\n",
       "    <tr>\n",
       "      <td>2</td>\n",
       "      <td>3</td>\n",
       "      <td>Agatha Christie</td>\n",
       "    </tr>\n",
       "    <tr>\n",
       "      <td>3</td>\n",
       "      <td>4</td>\n",
       "      <td>Alan Brennert</td>\n",
       "    </tr>\n",
       "    <tr>\n",
       "      <td>4</td>\n",
       "      <td>5</td>\n",
       "      <td>Alan Moore/David   Lloyd</td>\n",
       "    </tr>\n",
       "  </tbody>\n",
       "</table>\n",
       "</div>"
      ],
      "text/plain": [
       "   author_id                          author\n",
       "0          1                      A.S. Byatt\n",
       "1          2  Aesop/Laura Harris/Laura Gibbs\n",
       "2          3                 Agatha Christie\n",
       "3          4                   Alan Brennert\n",
       "4          5        Alan Moore/David   Lloyd"
      ]
     },
     "execution_count": 4,
     "metadata": {},
     "output_type": "execute_result"
    }
   ],
   "source": [
    "# вывод таблицы из базы Авторы\n",
    "query = '''\n",
    "select\n",
    "    *\n",
    "from \n",
    "    authors\n",
    "limit\n",
    "    5;\n",
    "'''\n",
    "\n",
    "authors = pd.io.sql.read_sql(query, con = engine) \n",
    "authors"
   ]
  },
  {
   "cell_type": "code",
   "execution_count": 5,
   "metadata": {},
   "outputs": [
    {
     "data": {
      "text/html": [
       "<div>\n",
       "<style scoped>\n",
       "    .dataframe tbody tr th:only-of-type {\n",
       "        vertical-align: middle;\n",
       "    }\n",
       "\n",
       "    .dataframe tbody tr th {\n",
       "        vertical-align: top;\n",
       "    }\n",
       "\n",
       "    .dataframe thead th {\n",
       "        text-align: right;\n",
       "    }\n",
       "</style>\n",
       "<table border=\"1\" class=\"dataframe\">\n",
       "  <thead>\n",
       "    <tr style=\"text-align: right;\">\n",
       "      <th></th>\n",
       "      <th>cnt</th>\n",
       "    </tr>\n",
       "  </thead>\n",
       "  <tbody>\n",
       "    <tr>\n",
       "      <td>0</td>\n",
       "      <td>636</td>\n",
       "    </tr>\n",
       "  </tbody>\n",
       "</table>\n",
       "</div>"
      ],
      "text/plain": [
       "   cnt\n",
       "0  636"
      ]
     },
     "execution_count": 5,
     "metadata": {},
     "output_type": "execute_result"
    }
   ],
   "source": [
    "query = '''\n",
    "select\n",
    "    count(*) as cnt\n",
    "from\n",
    "    authors;\n",
    "'''\n",
    "\n",
    "df = pd.io.sql.read_sql(query, con = engine)\n",
    "df"
   ]
  },
  {
   "cell_type": "code",
   "execution_count": 6,
   "metadata": {},
   "outputs": [
    {
     "data": {
      "text/html": [
       "<div>\n",
       "<style scoped>\n",
       "    .dataframe tbody tr th:only-of-type {\n",
       "        vertical-align: middle;\n",
       "    }\n",
       "\n",
       "    .dataframe tbody tr th {\n",
       "        vertical-align: top;\n",
       "    }\n",
       "\n",
       "    .dataframe thead th {\n",
       "        text-align: right;\n",
       "    }\n",
       "</style>\n",
       "<table border=\"1\" class=\"dataframe\">\n",
       "  <thead>\n",
       "    <tr style=\"text-align: right;\">\n",
       "      <th></th>\n",
       "      <th>publisher_id</th>\n",
       "      <th>publisher</th>\n",
       "    </tr>\n",
       "  </thead>\n",
       "  <tbody>\n",
       "    <tr>\n",
       "      <td>0</td>\n",
       "      <td>1</td>\n",
       "      <td>Ace</td>\n",
       "    </tr>\n",
       "    <tr>\n",
       "      <td>1</td>\n",
       "      <td>2</td>\n",
       "      <td>Ace Book</td>\n",
       "    </tr>\n",
       "    <tr>\n",
       "      <td>2</td>\n",
       "      <td>3</td>\n",
       "      <td>Ace Books</td>\n",
       "    </tr>\n",
       "    <tr>\n",
       "      <td>3</td>\n",
       "      <td>4</td>\n",
       "      <td>Ace Hardcover</td>\n",
       "    </tr>\n",
       "    <tr>\n",
       "      <td>4</td>\n",
       "      <td>5</td>\n",
       "      <td>Addison Wesley Publishing Company</td>\n",
       "    </tr>\n",
       "  </tbody>\n",
       "</table>\n",
       "</div>"
      ],
      "text/plain": [
       "   publisher_id                          publisher\n",
       "0             1                                Ace\n",
       "1             2                           Ace Book\n",
       "2             3                          Ace Books\n",
       "3             4                      Ace Hardcover\n",
       "4             5  Addison Wesley Publishing Company"
      ]
     },
     "execution_count": 6,
     "metadata": {},
     "output_type": "execute_result"
    }
   ],
   "source": [
    "# вывод таблицы из базы Издательства\n",
    "query = '''\n",
    "select\n",
    "    *\n",
    "from \n",
    "    publishers\n",
    "limit\n",
    "    5;\n",
    "'''\n",
    "\n",
    "publishers = pd.io.sql.read_sql(query, con = engine) \n",
    "publishers"
   ]
  },
  {
   "cell_type": "code",
   "execution_count": 7,
   "metadata": {},
   "outputs": [
    {
     "data": {
      "text/html": [
       "<div>\n",
       "<style scoped>\n",
       "    .dataframe tbody tr th:only-of-type {\n",
       "        vertical-align: middle;\n",
       "    }\n",
       "\n",
       "    .dataframe tbody tr th {\n",
       "        vertical-align: top;\n",
       "    }\n",
       "\n",
       "    .dataframe thead th {\n",
       "        text-align: right;\n",
       "    }\n",
       "</style>\n",
       "<table border=\"1\" class=\"dataframe\">\n",
       "  <thead>\n",
       "    <tr style=\"text-align: right;\">\n",
       "      <th></th>\n",
       "      <th>cnt</th>\n",
       "    </tr>\n",
       "  </thead>\n",
       "  <tbody>\n",
       "    <tr>\n",
       "      <td>0</td>\n",
       "      <td>340</td>\n",
       "    </tr>\n",
       "  </tbody>\n",
       "</table>\n",
       "</div>"
      ],
      "text/plain": [
       "   cnt\n",
       "0  340"
      ]
     },
     "execution_count": 7,
     "metadata": {},
     "output_type": "execute_result"
    }
   ],
   "source": [
    "query = '''\n",
    "select\n",
    "    count(*) as cnt\n",
    "from\n",
    "    publishers;\n",
    "'''\n",
    "\n",
    "df = pd.io.sql.read_sql(query, con = engine)\n",
    "df"
   ]
  },
  {
   "cell_type": "code",
   "execution_count": 8,
   "metadata": {},
   "outputs": [
    {
     "data": {
      "text/html": [
       "<div>\n",
       "<style scoped>\n",
       "    .dataframe tbody tr th:only-of-type {\n",
       "        vertical-align: middle;\n",
       "    }\n",
       "\n",
       "    .dataframe tbody tr th {\n",
       "        vertical-align: top;\n",
       "    }\n",
       "\n",
       "    .dataframe thead th {\n",
       "        text-align: right;\n",
       "    }\n",
       "</style>\n",
       "<table border=\"1\" class=\"dataframe\">\n",
       "  <thead>\n",
       "    <tr style=\"text-align: right;\">\n",
       "      <th></th>\n",
       "      <th>rating_id</th>\n",
       "      <th>book_id</th>\n",
       "      <th>username</th>\n",
       "      <th>rating</th>\n",
       "    </tr>\n",
       "  </thead>\n",
       "  <tbody>\n",
       "    <tr>\n",
       "      <td>0</td>\n",
       "      <td>1</td>\n",
       "      <td>1</td>\n",
       "      <td>ryanfranco</td>\n",
       "      <td>4</td>\n",
       "    </tr>\n",
       "    <tr>\n",
       "      <td>1</td>\n",
       "      <td>2</td>\n",
       "      <td>1</td>\n",
       "      <td>grantpatricia</td>\n",
       "      <td>2</td>\n",
       "    </tr>\n",
       "    <tr>\n",
       "      <td>2</td>\n",
       "      <td>3</td>\n",
       "      <td>1</td>\n",
       "      <td>brandtandrea</td>\n",
       "      <td>5</td>\n",
       "    </tr>\n",
       "    <tr>\n",
       "      <td>3</td>\n",
       "      <td>4</td>\n",
       "      <td>2</td>\n",
       "      <td>lorichen</td>\n",
       "      <td>3</td>\n",
       "    </tr>\n",
       "    <tr>\n",
       "      <td>4</td>\n",
       "      <td>5</td>\n",
       "      <td>2</td>\n",
       "      <td>mariokeller</td>\n",
       "      <td>2</td>\n",
       "    </tr>\n",
       "  </tbody>\n",
       "</table>\n",
       "</div>"
      ],
      "text/plain": [
       "   rating_id  book_id       username  rating\n",
       "0          1        1     ryanfranco       4\n",
       "1          2        1  grantpatricia       2\n",
       "2          3        1   brandtandrea       5\n",
       "3          4        2       lorichen       3\n",
       "4          5        2    mariokeller       2"
      ]
     },
     "execution_count": 8,
     "metadata": {},
     "output_type": "execute_result"
    }
   ],
   "source": [
    "# вывод таблицы из базы Рейтинги\n",
    "query = '''\n",
    "select\n",
    "    *\n",
    "from \n",
    "    ratings\n",
    "limit\n",
    "    5;\n",
    "'''\n",
    "\n",
    "ratings = pd.io.sql.read_sql(query, con = engine) \n",
    "ratings"
   ]
  },
  {
   "cell_type": "code",
   "execution_count": 9,
   "metadata": {},
   "outputs": [
    {
     "data": {
      "text/html": [
       "<div>\n",
       "<style scoped>\n",
       "    .dataframe tbody tr th:only-of-type {\n",
       "        vertical-align: middle;\n",
       "    }\n",
       "\n",
       "    .dataframe tbody tr th {\n",
       "        vertical-align: top;\n",
       "    }\n",
       "\n",
       "    .dataframe thead th {\n",
       "        text-align: right;\n",
       "    }\n",
       "</style>\n",
       "<table border=\"1\" class=\"dataframe\">\n",
       "  <thead>\n",
       "    <tr style=\"text-align: right;\">\n",
       "      <th></th>\n",
       "      <th>cnt</th>\n",
       "    </tr>\n",
       "  </thead>\n",
       "  <tbody>\n",
       "    <tr>\n",
       "      <td>0</td>\n",
       "      <td>6456</td>\n",
       "    </tr>\n",
       "  </tbody>\n",
       "</table>\n",
       "</div>"
      ],
      "text/plain": [
       "    cnt\n",
       "0  6456"
      ]
     },
     "execution_count": 9,
     "metadata": {},
     "output_type": "execute_result"
    }
   ],
   "source": [
    "query = '''\n",
    "select\n",
    "    count(*) as cnt\n",
    "from\n",
    "    ratings;\n",
    "'''\n",
    "\n",
    "df = pd.io.sql.read_sql(query, con = engine)\n",
    "df"
   ]
  },
  {
   "cell_type": "code",
   "execution_count": 10,
   "metadata": {
    "scrolled": true
   },
   "outputs": [
    {
     "data": {
      "text/html": [
       "<div>\n",
       "<style scoped>\n",
       "    .dataframe tbody tr th:only-of-type {\n",
       "        vertical-align: middle;\n",
       "    }\n",
       "\n",
       "    .dataframe tbody tr th {\n",
       "        vertical-align: top;\n",
       "    }\n",
       "\n",
       "    .dataframe thead th {\n",
       "        text-align: right;\n",
       "    }\n",
       "</style>\n",
       "<table border=\"1\" class=\"dataframe\">\n",
       "  <thead>\n",
       "    <tr style=\"text-align: right;\">\n",
       "      <th></th>\n",
       "      <th>review_id</th>\n",
       "      <th>book_id</th>\n",
       "      <th>username</th>\n",
       "      <th>text</th>\n",
       "    </tr>\n",
       "  </thead>\n",
       "  <tbody>\n",
       "    <tr>\n",
       "      <td>0</td>\n",
       "      <td>1</td>\n",
       "      <td>1</td>\n",
       "      <td>brandtandrea</td>\n",
       "      <td>Mention society tell send professor analysis. Over provide race technology continue these.</td>\n",
       "    </tr>\n",
       "    <tr>\n",
       "      <td>1</td>\n",
       "      <td>2</td>\n",
       "      <td>1</td>\n",
       "      <td>ryanfranco</td>\n",
       "      <td>Foot glass pretty audience hit themselves. Among admit investment argue security.</td>\n",
       "    </tr>\n",
       "    <tr>\n",
       "      <td>2</td>\n",
       "      <td>3</td>\n",
       "      <td>2</td>\n",
       "      <td>lorichen</td>\n",
       "      <td>Listen treat keep worry. Miss husband tax but person sport treatment industry. Kitchen decision deep the. Social party body the.</td>\n",
       "    </tr>\n",
       "    <tr>\n",
       "      <td>3</td>\n",
       "      <td>4</td>\n",
       "      <td>3</td>\n",
       "      <td>johnsonamanda</td>\n",
       "      <td>Finally month interesting blue could nature cultural bit. Prepare beat finish grow that smile teach. Dream me play near.</td>\n",
       "    </tr>\n",
       "    <tr>\n",
       "      <td>4</td>\n",
       "      <td>5</td>\n",
       "      <td>3</td>\n",
       "      <td>scotttamara</td>\n",
       "      <td>Nation purpose heavy give wait song will. List dinner another whole positive radio fast. Music staff many green.</td>\n",
       "    </tr>\n",
       "  </tbody>\n",
       "</table>\n",
       "</div>"
      ],
      "text/plain": [
       "   review_id  book_id       username  \\\n",
       "0          1        1   brandtandrea   \n",
       "1          2        1     ryanfranco   \n",
       "2          3        2       lorichen   \n",
       "3          4        3  johnsonamanda   \n",
       "4          5        3    scotttamara   \n",
       "\n",
       "                                                                                                                               text  \n",
       "0                                        Mention society tell send professor analysis. Over provide race technology continue these.  \n",
       "1                                                 Foot glass pretty audience hit themselves. Among admit investment argue security.  \n",
       "2  Listen treat keep worry. Miss husband tax but person sport treatment industry. Kitchen decision deep the. Social party body the.  \n",
       "3          Finally month interesting blue could nature cultural bit. Prepare beat finish grow that smile teach. Dream me play near.  \n",
       "4                  Nation purpose heavy give wait song will. List dinner another whole positive radio fast. Music staff many green.  "
      ]
     },
     "execution_count": 10,
     "metadata": {},
     "output_type": "execute_result"
    }
   ],
   "source": [
    "# вывод таблицы из базы Обзоры\n",
    "query = '''\n",
    "select\n",
    "    *\n",
    "from \n",
    "    reviews\n",
    "limit\n",
    "    5;\n",
    "'''\n",
    "\n",
    "reviews = pd.io.sql.read_sql(query, con = engine) \n",
    "reviews"
   ]
  },
  {
   "cell_type": "code",
   "execution_count": 11,
   "metadata": {},
   "outputs": [
    {
     "data": {
      "text/html": [
       "<div>\n",
       "<style scoped>\n",
       "    .dataframe tbody tr th:only-of-type {\n",
       "        vertical-align: middle;\n",
       "    }\n",
       "\n",
       "    .dataframe tbody tr th {\n",
       "        vertical-align: top;\n",
       "    }\n",
       "\n",
       "    .dataframe thead th {\n",
       "        text-align: right;\n",
       "    }\n",
       "</style>\n",
       "<table border=\"1\" class=\"dataframe\">\n",
       "  <thead>\n",
       "    <tr style=\"text-align: right;\">\n",
       "      <th></th>\n",
       "      <th>cnt</th>\n",
       "    </tr>\n",
       "  </thead>\n",
       "  <tbody>\n",
       "    <tr>\n",
       "      <td>0</td>\n",
       "      <td>2793</td>\n",
       "    </tr>\n",
       "  </tbody>\n",
       "</table>\n",
       "</div>"
      ],
      "text/plain": [
       "    cnt\n",
       "0  2793"
      ]
     },
     "execution_count": 11,
     "metadata": {},
     "output_type": "execute_result"
    }
   ],
   "source": [
    "query = '''\n",
    "select\n",
    "    count(*) as cnt\n",
    "from\n",
    "    reviews;\n",
    "'''\n",
    "\n",
    "df = pd.io.sql.read_sql(query, con = engine)\n",
    "df"
   ]
  },
  {
   "cell_type": "markdown",
   "metadata": {},
   "source": [
    "### Вывод по итогам знакомства с таблицами\n",
    "\n",
    "Нам доступны для анализа 5 таблиц с данными:\n",
    "\n",
    "1. books -- 1 000 книг,\n",
    "2. authors -- 636 авторов,\n",
    "3. publishers -- 340 издательств,\n",
    "4. ratings -- 6 456 оценок,\n",
    "5. reviews -- 2 793 отзыва.\n",
    "\n",
    "\n",
    "## Анализ БД\n",
    "\n",
    "### Книги, вышедшие после 1 января 2000 года"
   ]
  },
  {
   "cell_type": "code",
   "execution_count": 12,
   "metadata": {},
   "outputs": [
    {
     "data": {
      "text/html": [
       "<div>\n",
       "<style scoped>\n",
       "    .dataframe tbody tr th:only-of-type {\n",
       "        vertical-align: middle;\n",
       "    }\n",
       "\n",
       "    .dataframe tbody tr th {\n",
       "        vertical-align: top;\n",
       "    }\n",
       "\n",
       "    .dataframe thead th {\n",
       "        text-align: right;\n",
       "    }\n",
       "</style>\n",
       "<table border=\"1\" class=\"dataframe\">\n",
       "  <thead>\n",
       "    <tr style=\"text-align: right;\">\n",
       "      <th></th>\n",
       "      <th>cnt</th>\n",
       "    </tr>\n",
       "  </thead>\n",
       "  <tbody>\n",
       "    <tr>\n",
       "      <td>0</td>\n",
       "      <td>819</td>\n",
       "    </tr>\n",
       "  </tbody>\n",
       "</table>\n",
       "</div>"
      ],
      "text/plain": [
       "   cnt\n",
       "0  819"
      ]
     },
     "execution_count": 12,
     "metadata": {},
     "output_type": "execute_result"
    }
   ],
   "source": [
    "query = '''\n",
    "select\n",
    "    count(*) as cnt\n",
    "from \n",
    "    books\n",
    "where\n",
    "    publication_date > '2000-01-01'\n",
    "'''\n",
    "\n",
    "df = pd.io.sql.read_sql(query, con = engine) \n",
    "df"
   ]
  },
  {
   "cell_type": "markdown",
   "metadata": {},
   "source": [
    "#### Вывод\n",
    "\n",
    "После 1 января 2000 года (не включительно) было выпущено 819 книг.\n",
    "\n",
    "<br>\n",
    "\n",
    "### Количество обзоров и средняя оценка по каждой книге"
   ]
  },
  {
   "cell_type": "code",
   "execution_count": 13,
   "metadata": {},
   "outputs": [
    {
     "data": {
      "text/html": [
       "<div>\n",
       "<style scoped>\n",
       "    .dataframe tbody tr th:only-of-type {\n",
       "        vertical-align: middle;\n",
       "    }\n",
       "\n",
       "    .dataframe tbody tr th {\n",
       "        vertical-align: top;\n",
       "    }\n",
       "\n",
       "    .dataframe thead th {\n",
       "        text-align: right;\n",
       "    }\n",
       "</style>\n",
       "<table border=\"1\" class=\"dataframe\">\n",
       "  <thead>\n",
       "    <tr style=\"text-align: right;\">\n",
       "      <th></th>\n",
       "      <th>book_id</th>\n",
       "      <th>author_id</th>\n",
       "      <th>title</th>\n",
       "      <th>reviews_cnt</th>\n",
       "      <th>avg_rating</th>\n",
       "    </tr>\n",
       "  </thead>\n",
       "  <tbody>\n",
       "    <tr>\n",
       "      <td>0</td>\n",
       "      <td>948</td>\n",
       "      <td>554</td>\n",
       "      <td>Twilight (Twilight  #1)</td>\n",
       "      <td>7</td>\n",
       "      <td>3.662500</td>\n",
       "    </tr>\n",
       "    <tr>\n",
       "      <td>1</td>\n",
       "      <td>695</td>\n",
       "      <td>395</td>\n",
       "      <td>The Curious Incident of the Dog in the Night-Time</td>\n",
       "      <td>6</td>\n",
       "      <td>4.081081</td>\n",
       "    </tr>\n",
       "    <tr>\n",
       "      <td>2</td>\n",
       "      <td>299</td>\n",
       "      <td>236</td>\n",
       "      <td>Harry Potter and the Chamber of Secrets (Harry Potter  #2)</td>\n",
       "      <td>6</td>\n",
       "      <td>4.287500</td>\n",
       "    </tr>\n",
       "    <tr>\n",
       "      <td>3</td>\n",
       "      <td>696</td>\n",
       "      <td>106</td>\n",
       "      <td>The Da Vinci Code (Robert Langdon  #2)</td>\n",
       "      <td>6</td>\n",
       "      <td>3.830508</td>\n",
       "    </tr>\n",
       "    <tr>\n",
       "      <td>4</td>\n",
       "      <td>734</td>\n",
       "      <td>278</td>\n",
       "      <td>The Glass Castle</td>\n",
       "      <td>6</td>\n",
       "      <td>4.206897</td>\n",
       "    </tr>\n",
       "    <tr>\n",
       "      <td>...</td>\n",
       "      <td>...</td>\n",
       "      <td>...</td>\n",
       "      <td>...</td>\n",
       "      <td>...</td>\n",
       "      <td>...</td>\n",
       "    </tr>\n",
       "    <tr>\n",
       "      <td>995</td>\n",
       "      <td>672</td>\n",
       "      <td>144</td>\n",
       "      <td>The Cat in the Hat and Other Dr. Seuss Favorites</td>\n",
       "      <td>0</td>\n",
       "      <td>5.000000</td>\n",
       "    </tr>\n",
       "    <tr>\n",
       "      <td>996</td>\n",
       "      <td>808</td>\n",
       "      <td>350</td>\n",
       "      <td>The Natural Way to Draw</td>\n",
       "      <td>0</td>\n",
       "      <td>3.000000</td>\n",
       "    </tr>\n",
       "    <tr>\n",
       "      <td>997</td>\n",
       "      <td>221</td>\n",
       "      <td>151</td>\n",
       "      <td>Essential Tales and Poems</td>\n",
       "      <td>0</td>\n",
       "      <td>4.000000</td>\n",
       "    </tr>\n",
       "    <tr>\n",
       "      <td>998</td>\n",
       "      <td>83</td>\n",
       "      <td>174</td>\n",
       "      <td>Anne Rice's The Vampire Lestat: A Graphic Novel</td>\n",
       "      <td>0</td>\n",
       "      <td>3.666667</td>\n",
       "    </tr>\n",
       "    <tr>\n",
       "      <td>999</td>\n",
       "      <td>387</td>\n",
       "      <td>365</td>\n",
       "      <td>Leonardo's Notebooks</td>\n",
       "      <td>0</td>\n",
       "      <td>4.000000</td>\n",
       "    </tr>\n",
       "  </tbody>\n",
       "</table>\n",
       "<p>1000 rows × 5 columns</p>\n",
       "</div>"
      ],
      "text/plain": [
       "     book_id  author_id  \\\n",
       "0        948        554   \n",
       "1        695        395   \n",
       "2        299        236   \n",
       "3        696        106   \n",
       "4        734        278   \n",
       "..       ...        ...   \n",
       "995      672        144   \n",
       "996      808        350   \n",
       "997      221        151   \n",
       "998       83        174   \n",
       "999      387        365   \n",
       "\n",
       "                                                          title  reviews_cnt  \\\n",
       "0                                       Twilight (Twilight  #1)            7   \n",
       "1             The Curious Incident of the Dog in the Night-Time            6   \n",
       "2    Harry Potter and the Chamber of Secrets (Harry Potter  #2)            6   \n",
       "3                        The Da Vinci Code (Robert Langdon  #2)            6   \n",
       "4                                              The Glass Castle            6   \n",
       "..                                                          ...          ...   \n",
       "995            The Cat in the Hat and Other Dr. Seuss Favorites            0   \n",
       "996                                     The Natural Way to Draw            0   \n",
       "997                                   Essential Tales and Poems            0   \n",
       "998             Anne Rice's The Vampire Lestat: A Graphic Novel            0   \n",
       "999                                        Leonardo's Notebooks            0   \n",
       "\n",
       "     avg_rating  \n",
       "0      3.662500  \n",
       "1      4.081081  \n",
       "2      4.287500  \n",
       "3      3.830508  \n",
       "4      4.206897  \n",
       "..          ...  \n",
       "995    5.000000  \n",
       "996    3.000000  \n",
       "997    4.000000  \n",
       "998    3.666667  \n",
       "999    4.000000  \n",
       "\n",
       "[1000 rows x 5 columns]"
      ]
     },
     "execution_count": 13,
     "metadata": {},
     "output_type": "execute_result"
    }
   ],
   "source": [
    "query = '''\n",
    "select\n",
    "    books.book_id as book_id,\n",
    "    books.author_id as author_id,\n",
    "    books.title as title,\n",
    "    count(text) as reviews_cnt,\n",
    "    avg(subquery.avg_rating) as avg_rating\n",
    "from\n",
    "    books\n",
    "    left join reviews on reviews.book_id = books.book_id\n",
    "    left join (\n",
    "        select\n",
    "            book_id,\n",
    "            avg(rating) as avg_rating\n",
    "        from\n",
    "            ratings\n",
    "        group by\n",
    "            book_id\n",
    ") as subquery on subquery.book_id = books.book_id     \n",
    "group by\n",
    "    books.book_id\n",
    "order by\n",
    "    reviews_cnt desc;\n",
    "'''\n",
    "\n",
    "df = pd.io.sql.read_sql(query, con = engine) \n",
    "df "
   ]
  },
  {
   "cell_type": "markdown",
   "metadata": {},
   "source": [
    "#### Вывод\n",
    "\n",
    "Для каждой книги посчитали количество обзоров и среднюю оценку. Лидер по количеству обзоров -- Twilight (Twilight #1).\n",
    "\n",
    "<br>\n",
    "\n",
    "### Издательство, которое выпустило наибольшее число книг толще 50 страниц\n"
   ]
  },
  {
   "cell_type": "code",
   "execution_count": 14,
   "metadata": {},
   "outputs": [
    {
     "data": {
      "text/html": [
       "<div>\n",
       "<style scoped>\n",
       "    .dataframe tbody tr th:only-of-type {\n",
       "        vertical-align: middle;\n",
       "    }\n",
       "\n",
       "    .dataframe tbody tr th {\n",
       "        vertical-align: top;\n",
       "    }\n",
       "\n",
       "    .dataframe thead th {\n",
       "        text-align: right;\n",
       "    }\n",
       "</style>\n",
       "<table border=\"1\" class=\"dataframe\">\n",
       "  <thead>\n",
       "    <tr style=\"text-align: right;\">\n",
       "      <th></th>\n",
       "      <th>publisher</th>\n",
       "      <th>books_cnt</th>\n",
       "    </tr>\n",
       "  </thead>\n",
       "  <tbody>\n",
       "    <tr>\n",
       "      <td>0</td>\n",
       "      <td>Penguin Books</td>\n",
       "      <td>42</td>\n",
       "    </tr>\n",
       "  </tbody>\n",
       "</table>\n",
       "</div>"
      ],
      "text/plain": [
       "       publisher  books_cnt\n",
       "0  Penguin Books         42"
      ]
     },
     "execution_count": 14,
     "metadata": {},
     "output_type": "execute_result"
    }
   ],
   "source": [
    "query = '''\n",
    "select\n",
    "    publishers.publisher as publisher,\n",
    "    books_cnt\n",
    "from\n",
    "    publishers\n",
    "    right join (\n",
    "        select\n",
    "            count(books.book_id) as books_cnt,\n",
    "            books.publisher_id as publisher_id\n",
    "        from\n",
    "            books\n",
    "        where\n",
    "            books.num_pages > 50\n",
    "        group by\n",
    "            publisher_id\n",
    ") as subquery on subquery.publisher_id = publishers.publisher_id\n",
    "order by\n",
    "    books_cnt desc\n",
    "limit 1;\n",
    "'''\n",
    "\n",
    "df = pd.io.sql.read_sql(query, con = engine) \n",
    "df"
   ]
  },
  {
   "cell_type": "markdown",
   "metadata": {},
   "source": [
    "#### Вывод\n",
    "\n",
    "Определили издательство, которое выпустило наибольшее число книг толще 50 страниц. Им оказалось издательство Penguin Books.\n",
    "\n",
    "<br>\n",
    "\n",
    "### Автор с самой высокой средней оценкой книг\n"
   ]
  },
  {
   "cell_type": "code",
   "execution_count": 15,
   "metadata": {},
   "outputs": [
    {
     "data": {
      "text/html": [
       "<div>\n",
       "<style scoped>\n",
       "    .dataframe tbody tr th:only-of-type {\n",
       "        vertical-align: middle;\n",
       "    }\n",
       "\n",
       "    .dataframe tbody tr th {\n",
       "        vertical-align: top;\n",
       "    }\n",
       "\n",
       "    .dataframe thead th {\n",
       "        text-align: right;\n",
       "    }\n",
       "</style>\n",
       "<table border=\"1\" class=\"dataframe\">\n",
       "  <thead>\n",
       "    <tr style=\"text-align: right;\">\n",
       "      <th></th>\n",
       "      <th>author_id</th>\n",
       "      <th>author</th>\n",
       "      <th>rating_avg</th>\n",
       "    </tr>\n",
       "  </thead>\n",
       "  <tbody>\n",
       "    <tr>\n",
       "      <td>0</td>\n",
       "      <td>236</td>\n",
       "      <td>J.K. Rowling/Mary GrandPré</td>\n",
       "      <td>4.283844</td>\n",
       "    </tr>\n",
       "  </tbody>\n",
       "</table>\n",
       "</div>"
      ],
      "text/plain": [
       "   author_id                      author  rating_avg\n",
       "0        236  J.K. Rowling/Mary GrandPré    4.283844"
      ]
     },
     "execution_count": 15,
     "metadata": {},
     "output_type": "execute_result"
    }
   ],
   "source": [
    "query = '''\n",
    "select\n",
    "    books.author_id as author_id,\n",
    "    authors.author as author,\n",
    "    avg(subquery.rating_avg) as rating_avg\n",
    "from \n",
    "    books\n",
    "    inner join (\n",
    "        select\n",
    "            book_id,\n",
    "            avg(rating) as rating_avg\n",
    "        from \n",
    "            ratings\n",
    "        group by \n",
    "            book_id\n",
    "        having \n",
    "            count(*) >= 50\n",
    "        ) as subquery  on subquery.book_id = books.book_id\n",
    "    inner join authors on authors.author_id = books.author_id\n",
    "group by \n",
    "    books.author_id,\n",
    "    authors.author\n",
    "order by \n",
    "    rating_avg desc\n",
    "limit 1;\n",
    "'''\n",
    "\n",
    "df = pd.io.sql.read_sql(query, con = engine) \n",
    "df"
   ]
  },
  {
   "cell_type": "markdown",
   "metadata": {},
   "source": [
    "#### Вывод\n",
    "\n",
    "Определили автора с самой высокой средней оценкой книг, учитывали только книги с 50 и более оценками. Это оказалась Джоан Роулинг, средний рейтинг которой составил 4.28.\n",
    "\n",
    "<br>\n",
    "\n",
    "### Cреднее количество обзоров от пользователей\n"
   ]
  },
  {
   "cell_type": "code",
   "execution_count": 16,
   "metadata": {},
   "outputs": [
    {
     "data": {
      "text/html": [
       "<div>\n",
       "<style scoped>\n",
       "    .dataframe tbody tr th:only-of-type {\n",
       "        vertical-align: middle;\n",
       "    }\n",
       "\n",
       "    .dataframe tbody tr th {\n",
       "        vertical-align: top;\n",
       "    }\n",
       "\n",
       "    .dataframe thead th {\n",
       "        text-align: right;\n",
       "    }\n",
       "</style>\n",
       "<table border=\"1\" class=\"dataframe\">\n",
       "  <thead>\n",
       "    <tr style=\"text-align: right;\">\n",
       "      <th></th>\n",
       "      <th>avg_reviews</th>\n",
       "    </tr>\n",
       "  </thead>\n",
       "  <tbody>\n",
       "    <tr>\n",
       "      <td>0</td>\n",
       "      <td>24.333333</td>\n",
       "    </tr>\n",
       "  </tbody>\n",
       "</table>\n",
       "</div>"
      ],
      "text/plain": [
       "   avg_reviews\n",
       "0    24.333333"
      ]
     },
     "execution_count": 16,
     "metadata": {},
     "output_type": "execute_result"
    }
   ],
   "source": [
    "query = '''\n",
    "select\n",
    "    avg(fifty.reviews_cnt) as avg_reviews\n",
    "from\n",
    "    (select\n",
    "        username,\n",
    "        count(text) as reviews_cnt\n",
    "    from\n",
    "        reviews\n",
    "    group by\n",
    "        username) as fifty\n",
    "where\n",
    "    fifty.username in (\n",
    "        select\n",
    "            ratings.username as username\n",
    "        from\n",
    "            ratings\n",
    "        group by\n",
    "            username\n",
    "        having\n",
    "            count(ratings.rating) > 50);\n",
    "    '''\n",
    "\n",
    "df = pd.io.sql.read_sql(query, con = engine)\n",
    "df"
   ]
  },
  {
   "cell_type": "markdown",
   "metadata": {},
   "source": [
    "#### Вывод\n",
    "\n",
    "Определили среднее количество обзоров от пользователей, которые поставили больше 50 оценок -- 24 обзора на 1 пользователя."
   ]
  },
  {
   "cell_type": "markdown",
   "metadata": {},
   "source": [
    "### Вывод\n",
    "\n",
    "Проанализировали базу данных о размещенных на сервисе книгах. Всего размещено 819 книг, выпущенных после 1 января 2000 года.\n",
    "\n",
    "Лидером по количеству обзоров является книга Twilight (Twilight #1).\n",
    "\n",
    "Больше всего книг от издательства Penguin Books.\n",
    "\n",
    "Среди размещенных книг, автора с самой высокой средней оценкой книг -- Джоан Роулинг, средний рейтинг которой составил 4.28.\n",
    "\n",
    "В среднем каждый активный пользователь (поставил более 50 оценок) оставил 24 обзора."
   ]
  }
 ],
 "metadata": {
  "ExecuteTimeLog": [
   {
    "duration": 968,
    "start_time": "2021-10-25T17:34:39.315Z"
   },
   {
    "duration": 61,
    "start_time": "2021-10-25T17:34:40.286Z"
   },
   {
    "duration": 15,
    "start_time": "2021-10-25T17:34:40.350Z"
   },
   {
    "duration": 15,
    "start_time": "2021-10-25T17:34:40.367Z"
   },
   {
    "duration": 24,
    "start_time": "2021-10-25T17:34:40.384Z"
   },
   {
    "duration": 21,
    "start_time": "2021-10-25T17:34:40.411Z"
   },
   {
    "duration": 13,
    "start_time": "2021-10-25T17:34:40.434Z"
   },
   {
    "duration": 69,
    "start_time": "2021-10-25T17:34:40.449Z"
   },
   {
    "duration": 17,
    "start_time": "2021-10-25T17:34:40.522Z"
   },
   {
    "duration": 44,
    "start_time": "2021-10-25T17:34:40.542Z"
   },
   {
    "duration": 19,
    "start_time": "2021-10-25T17:34:40.589Z"
   },
   {
    "duration": 17,
    "start_time": "2021-10-25T17:43:32.879Z"
   },
   {
    "duration": 525,
    "start_time": "2021-10-25T17:46:13.582Z"
   },
   {
    "duration": 494,
    "start_time": "2021-10-25T17:46:21.439Z"
   },
   {
    "duration": 15,
    "start_time": "2021-10-25T17:46:32.530Z"
   },
   {
    "duration": 756,
    "start_time": "2021-10-25T20:20:06.989Z"
   },
   {
    "duration": 42,
    "start_time": "2021-10-25T20:20:09.419Z"
   },
   {
    "duration": 13,
    "start_time": "2021-10-25T20:20:28.337Z"
   },
   {
    "duration": 11,
    "start_time": "2021-10-25T20:20:31.684Z"
   },
   {
    "duration": 11,
    "start_time": "2021-10-25T20:20:34.481Z"
   },
   {
    "duration": 13,
    "start_time": "2021-10-25T20:20:36.373Z"
   },
   {
    "duration": 13,
    "start_time": "2021-10-25T20:20:38.352Z"
   },
   {
    "duration": 460,
    "start_time": "2021-10-25T20:27:12.971Z"
   },
   {
    "duration": 366,
    "start_time": "2021-10-25T20:27:21.746Z"
   },
   {
    "duration": 390,
    "start_time": "2021-10-25T20:31:02.116Z"
   },
   {
    "duration": 10,
    "start_time": "2021-10-25T20:47:48.827Z"
   },
   {
    "duration": 11,
    "start_time": "2021-10-25T20:48:12.389Z"
   },
   {
    "duration": 11,
    "start_time": "2021-10-25T20:48:32.321Z"
   },
   {
    "duration": 11,
    "start_time": "2021-10-25T20:48:46.606Z"
   },
   {
    "duration": 11,
    "start_time": "2021-10-25T20:48:59.315Z"
   },
   {
    "duration": 10,
    "start_time": "2021-10-25T20:49:51.893Z"
   },
   {
    "duration": 55,
    "start_time": "2021-10-25T20:50:59.123Z"
   },
   {
    "duration": 51,
    "start_time": "2021-10-25T20:51:37.386Z"
   },
   {
    "duration": 44,
    "start_time": "2021-10-25T20:53:14.949Z"
   },
   {
    "duration": 49,
    "start_time": "2021-10-25T20:55:14.029Z"
   },
   {
    "duration": 54,
    "start_time": "2021-10-25T20:55:33.322Z"
   },
   {
    "duration": 51,
    "start_time": "2021-10-25T20:56:15.595Z"
   },
   {
    "duration": 427,
    "start_time": "2021-10-25T20:59:14.284Z"
   },
   {
    "duration": 48,
    "start_time": "2021-10-25T20:59:24.779Z"
   },
   {
    "duration": 48,
    "start_time": "2021-10-25T21:00:42.090Z"
   },
   {
    "duration": 51,
    "start_time": "2021-10-25T21:02:38.223Z"
   },
   {
    "duration": 419,
    "start_time": "2021-10-25T21:05:48.435Z"
   },
   {
    "duration": 369,
    "start_time": "2021-10-25T21:05:53.156Z"
   },
   {
    "duration": 374,
    "start_time": "2021-10-25T21:06:51.384Z"
   },
   {
    "duration": 415,
    "start_time": "2021-10-25T21:07:06.337Z"
   },
   {
    "duration": 21,
    "start_time": "2021-10-25T21:07:32.624Z"
   },
   {
    "duration": 28,
    "start_time": "2021-10-25T21:07:47.793Z"
   },
   {
    "duration": 29,
    "start_time": "2021-10-25T21:08:58.520Z"
   },
   {
    "duration": 19,
    "start_time": "2021-10-25T21:09:31.759Z"
   },
   {
    "duration": 383,
    "start_time": "2021-10-25T21:10:13.868Z"
   },
   {
    "duration": 13,
    "start_time": "2021-10-25T21:10:47.047Z"
   },
   {
    "duration": 368,
    "start_time": "2021-10-25T21:14:16.403Z"
   },
   {
    "duration": 361,
    "start_time": "2021-10-25T21:15:17.764Z"
   },
   {
    "duration": 378,
    "start_time": "2021-10-25T21:15:42.798Z"
   },
   {
    "duration": 27,
    "start_time": "2021-10-25T21:16:06.695Z"
   },
   {
    "duration": 14,
    "start_time": "2021-10-25T21:16:30.858Z"
   },
   {
    "duration": 13,
    "start_time": "2021-10-25T21:19:36.237Z"
   },
   {
    "duration": 44,
    "start_time": "2021-10-25T21:20:31.874Z"
   },
   {
    "duration": 40,
    "start_time": "2021-10-25T21:21:03.573Z"
   },
   {
    "duration": 432,
    "start_time": "2021-10-25T21:22:45.242Z"
   },
   {
    "duration": 48,
    "start_time": "2021-10-25T21:23:01.549Z"
   },
   {
    "duration": 42,
    "start_time": "2021-10-25T21:24:06.990Z"
   },
   {
    "duration": 24,
    "start_time": "2021-10-25T21:25:12.241Z"
   },
   {
    "duration": 40,
    "start_time": "2021-10-25T21:25:43.856Z"
   },
   {
    "duration": 359,
    "start_time": "2021-10-25T21:40:29.572Z"
   },
   {
    "duration": 380,
    "start_time": "2021-10-25T21:40:40.158Z"
   },
   {
    "duration": 367,
    "start_time": "2021-10-25T21:41:29.917Z"
   },
   {
    "duration": 411,
    "start_time": "2021-10-25T21:41:53.138Z"
   },
   {
    "duration": 434,
    "start_time": "2021-10-25T21:42:22.238Z"
   },
   {
    "duration": 364,
    "start_time": "2021-10-25T21:43:11.341Z"
   },
   {
    "duration": 368,
    "start_time": "2021-10-25T21:43:56.524Z"
   },
   {
    "duration": 376,
    "start_time": "2021-10-25T21:45:17.000Z"
   },
   {
    "duration": 433,
    "start_time": "2021-10-25T21:46:21.442Z"
   },
   {
    "duration": 366,
    "start_time": "2021-10-25T21:47:33.220Z"
   },
   {
    "duration": 363,
    "start_time": "2021-10-25T21:48:40.391Z"
   },
   {
    "duration": 384,
    "start_time": "2021-10-25T21:49:05.364Z"
   },
   {
    "duration": 21,
    "start_time": "2021-10-25T21:51:08.578Z"
   },
   {
    "duration": 374,
    "start_time": "2021-10-25T21:51:56.510Z"
   },
   {
    "duration": 20,
    "start_time": "2021-10-25T21:52:08.484Z"
   },
   {
    "duration": 456,
    "start_time": "2021-10-25T21:58:35.631Z"
   },
   {
    "duration": 428,
    "start_time": "2021-10-25T21:58:38.585Z"
   },
   {
    "duration": 15,
    "start_time": "2021-10-25T21:59:02.296Z"
   },
   {
    "duration": 380,
    "start_time": "2021-10-25T22:00:52.943Z"
   },
   {
    "duration": 16,
    "start_time": "2021-10-25T22:01:12.477Z"
   },
   {
    "duration": 14,
    "start_time": "2021-10-25T22:08:04.842Z"
   },
   {
    "duration": 364,
    "start_time": "2021-10-25T22:12:15.935Z"
   },
   {
    "duration": 368,
    "start_time": "2021-10-25T22:12:49.833Z"
   },
   {
    "duration": 2912,
    "start_time": "2021-10-25T22:24:00.580Z"
   },
   {
    "duration": 386,
    "start_time": "2021-10-25T22:24:10.842Z"
   },
   {
    "duration": 466,
    "start_time": "2021-10-25T22:24:36.563Z"
   },
   {
    "duration": 444,
    "start_time": "2021-10-25T22:35:08.745Z"
   },
   {
    "duration": 13,
    "start_time": "2021-10-25T22:35:37.388Z"
   },
   {
    "duration": 489,
    "start_time": "2021-10-25T22:36:47.115Z"
   },
   {
    "duration": 393,
    "start_time": "2021-10-25T22:37:05.935Z"
   },
   {
    "duration": 380,
    "start_time": "2021-10-25T22:37:20.733Z"
   },
   {
    "duration": 12,
    "start_time": "2021-10-25T22:37:36.256Z"
   },
   {
    "duration": 372,
    "start_time": "2021-10-25T22:38:45.792Z"
   },
   {
    "duration": 371,
    "start_time": "2021-10-25T22:39:04.456Z"
   },
   {
    "duration": 480,
    "start_time": "2021-10-25T22:40:20.960Z"
   },
   {
    "duration": 376,
    "start_time": "2021-10-25T22:41:52.196Z"
   },
   {
    "duration": 420,
    "start_time": "2021-10-25T22:43:29.548Z"
   },
   {
    "duration": 388,
    "start_time": "2021-10-25T22:43:49.704Z"
   },
   {
    "duration": 13,
    "start_time": "2021-10-25T22:44:07.877Z"
   },
   {
    "duration": 737,
    "start_time": "2021-10-25T22:45:51.167Z"
   },
   {
    "duration": 41,
    "start_time": "2021-10-25T22:45:51.906Z"
   },
   {
    "duration": 9,
    "start_time": "2021-10-25T22:45:51.951Z"
   },
   {
    "duration": 15,
    "start_time": "2021-10-25T22:45:51.962Z"
   },
   {
    "duration": 9,
    "start_time": "2021-10-25T22:45:51.979Z"
   },
   {
    "duration": 10,
    "start_time": "2021-10-25T22:45:51.990Z"
   },
   {
    "duration": 10,
    "start_time": "2021-10-25T22:45:52.003Z"
   },
   {
    "duration": 16,
    "start_time": "2021-10-25T22:45:52.015Z"
   },
   {
    "duration": 10,
    "start_time": "2021-10-25T22:45:52.033Z"
   },
   {
    "duration": 35,
    "start_time": "2021-10-25T22:45:52.045Z"
   },
   {
    "duration": 10,
    "start_time": "2021-10-25T22:45:52.082Z"
   },
   {
    "duration": 12,
    "start_time": "2021-10-25T22:45:52.093Z"
   },
   {
    "duration": 26,
    "start_time": "2021-10-25T22:45:52.107Z"
   },
   {
    "duration": 11,
    "start_time": "2021-10-25T22:45:52.135Z"
   },
   {
    "duration": 31,
    "start_time": "2021-10-25T22:45:52.148Z"
   },
   {
    "duration": 12,
    "start_time": "2021-10-25T22:45:52.181Z"
   },
   {
    "duration": 698,
    "start_time": "2021-10-25T22:54:52.106Z"
   },
   {
    "duration": 38,
    "start_time": "2021-10-25T22:54:52.806Z"
   },
   {
    "duration": 13,
    "start_time": "2021-10-25T22:54:52.846Z"
   },
   {
    "duration": 16,
    "start_time": "2021-10-25T22:54:52.861Z"
   },
   {
    "duration": 10,
    "start_time": "2021-10-25T22:54:52.880Z"
   },
   {
    "duration": 11,
    "start_time": "2021-10-25T22:54:52.892Z"
   },
   {
    "duration": 11,
    "start_time": "2021-10-25T22:54:52.905Z"
   },
   {
    "duration": 13,
    "start_time": "2021-10-25T22:54:52.920Z"
   },
   {
    "duration": 11,
    "start_time": "2021-10-25T22:54:52.934Z"
   },
   {
    "duration": 15,
    "start_time": "2021-10-25T22:54:52.976Z"
   },
   {
    "duration": 10,
    "start_time": "2021-10-25T22:54:52.993Z"
   },
   {
    "duration": 11,
    "start_time": "2021-10-25T22:54:53.005Z"
   },
   {
    "duration": 27,
    "start_time": "2021-10-25T22:54:53.018Z"
   },
   {
    "duration": 33,
    "start_time": "2021-10-25T22:54:53.047Z"
   },
   {
    "duration": 14,
    "start_time": "2021-10-25T22:54:53.082Z"
   },
   {
    "duration": 13,
    "start_time": "2021-10-25T22:54:53.097Z"
   },
   {
    "duration": 98,
    "start_time": "2021-10-26T18:50:28.480Z"
   }
  ],
  "kernelspec": {
   "display_name": "Python 3 (ipykernel)",
   "language": "python",
   "name": "python3"
  },
  "language_info": {
   "codemirror_mode": {
    "name": "ipython",
    "version": 3
   },
   "file_extension": ".py",
   "mimetype": "text/x-python",
   "name": "python",
   "nbconvert_exporter": "python",
   "pygments_lexer": "ipython3",
   "version": "3.9.12"
  },
  "toc": {
   "base_numbering": 1,
   "nav_menu": {},
   "number_sections": true,
   "sideBar": true,
   "skip_h1_title": true,
   "title_cell": "Table of Contents",
   "title_sidebar": "Contents",
   "toc_cell": false,
   "toc_position": {},
   "toc_section_display": true,
   "toc_window_display": false
  }
 },
 "nbformat": 4,
 "nbformat_minor": 4
}
